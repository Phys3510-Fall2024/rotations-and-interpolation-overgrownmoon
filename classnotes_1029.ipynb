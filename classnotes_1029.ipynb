{
 "cells": [
  {
   "cell_type": "markdown",
   "id": "f70777f7-342f-4b45-85f2-f2dce889c473",
   "metadata": {},
   "source": [
    " |              |E  | m(perp) |   m(par)  |  2(perp)  |  label|\n",
    " |---|---|---|---|---|---|\n",
    "|scalar    |     1 |  1    |      1    |     1      |    N|\n",
    "|polar vector  | 1 | -1    |      1    |    -1       |   P|\n",
    "|axial vector |  1  | 1   |      -1   |     -1    |      G|\n",
    "|pseudoscalar  | 1 | -1     |    -1    |     1     |     C|\n",
    "\n",
    "$(Q_N)^\\alpha * (Q_P)^\\beta * (Q_G)^\\gamma * (Q_C)^\\delta$\n",
    "process constrains $\\alpha, \\beta, \\gamma, \\delta \\in N^{all}$   \n",
    "\n",
    "potential energy $U = \\frac{1}{2} \\sum_{ij} Q_i * K_ij * Q_j \\rightarrow \\frac{1}{2}$ (row) (matrix) (column)     \n",
    "if $i=j \\frac{1}{2} K_ij Q_i^2$  \n",
    "if $i\\ne j \\frac{1}{2} K_ij Q_i Q_j$  \n",
    "\n",
    "$U=\\frac{1}{2}(\\vec{Q}A^T)(AKA^T)(A\\vec{Q})=\\frac{1}{2}\\vec{\\xi^T}D\\vec{\\xi}$  \n",
    "choose a matrix *A* so that $A K A^T = D$(diagonal)  \n",
    "\n",
    "\n",
    " \n",
    "\n"
   ]
  },
  {
   "cell_type": "markdown",
   "id": "780a8539-7bd1-444c-b9d2-69d4a4ecff41",
   "metadata": {},
   "source": [
    "### example  \n",
    "two polar vectors degrees of freedom  \n",
    "$U=\\frac{1}{2}K_{11}Q_1^2+\\frac{1}{2}K_{22}Q_2^2+\\frac{1}{2}K_{12}Q_1 Q_2+\\frac{1}{2}K_{21}Q_2 Q_1$  \n",
    "* last 2 expressions may have same symmetry objects and not different symmetry objects\n",
    "\n",
    "$K = \\def\\arraystretch{1.5}\n",
    "      \\begin{array}{c:c:c:c}\n",
    "      Q_n & 0 & 0 & 0\\\\ \\hdashline\n",
    "      0 & Q_P & 0 & 0\\\\\n",
    "      \\hdashline\n",
    "      0 & 0 & Q_G & 0\\\\ \\hdashline\n",
    "      0 & 0 & 0 & Q_C\\\\\n",
    "     \\end{array}\n",
    "$  \n",
    "\n",
    "\n"
   ]
  },
  {
   "cell_type": "markdown",
   "id": "96db9a31-b107-4135-b33d-4a7815f8bb54",
   "metadata": {},
   "source": [
    "$U=\\frac{1}{2}\\vec{Q^T}K\\vec{Q}=\\frac{1}{2}(\\vec{Q^T}B^T)(BKB^T)(B\\vec{Q})=\\vec{\\eta^T}\\Phi\\vec{\\eta}$  \n",
    "$(1=B^T B)$  \n",
    "* philip anderson - more is different (i guess go read this?)\n"
   ]
  },
  {
   "cell_type": "markdown",
   "id": "f110fcec-c777-4a49-8cc4-010f8c2314a4",
   "metadata": {},
   "source": [
    "# exam talk  \n",
    "\n",
    "### problem 1  \n",
    "$U(Q)=\\frac{1}{2}KQ^2+\\frac{1}{4}DQ^4$  \n",
    "1. harmonic frequency\n",
    "    $Q \\rightarrow 0$ expression for harmonic frequency  \n",
    "    $\\dot{U}(Q)=KQ+DQ^3 = -F_Q$  \n",
    "    $\\ddot{U}(Q)=K+3DQ^2$  \n",
    "    $Q=0 \\rightarrow \\ddot{U}(Q=0)=K$  \n",
    "\n",
    "2. comparison of terms in the potential  \n",
    "    $\\frac{1}{2}KQ^2 < \\frac{1}{4}DQ^4$\n",
    "\n",
    "3. equation of motion\n",
    "    derive from F=ma, a=$\\ddot{x}$\n",
    "\n",
    "4. amplitude-dependent frequency\n",
    "\n",
    "    a) solve for angular frequency as a function of $Q_0$, may use diff equation solver and find root  \n",
    "        - angular freqency  \n",
    "            - circular motion $\\omega = \\frac{2\\pi}{T} = 2\\pi f$  \n",
    "            - oscillations of a spring $\\omega_0 = \\sqrt{\\frac{k}{m}}, a = -\\omega^2 x = -(2\\pi f)^2 x = -(\\frac{2\\pi}{T})^2 x$  \n",
    "                (where x is the displacement, T is period, f is frequency, k is spring constant)   \n",
    "    b) plot frequency function  \n",
    "    c) describe how frequency changes with amplitude  \n",
    "\n",
    "   \n"
   ]
  },
  {
   "cell_type": "code",
   "execution_count": 2,
   "id": "5f0a6746-0a59-4c02-b720-d88d013c2f45",
   "metadata": {},
   "outputs": [
    {
     "data": {
      "text/plain": [
       "'\\nsteps to follow\\n# import libraries\\n# define parameters/variables\\n# define a function for potential or equation of motion\\n# use differential equation solver to find Q(t)\\n# plot results explore behavior\\n# interpolation may be important\\n# minimization/root-finding\\n# wrap this in its own function to be reused with different values, for-loop\\n'"
      ]
     },
     "execution_count": 2,
     "metadata": {},
     "output_type": "execute_result"
    }
   ],
   "source": [
    "'''\n",
    "steps to follow\n",
    "# import libraries\n",
    "# define parameters/variables\n",
    "# define a function for potential or equation of motion\n",
    "# use differential equation solver to find Q(t)\n",
    "# plot results explore behavior\n",
    "# interpolation may be important\n",
    "# minimization/root-finding\n",
    "# wrap this in its own function to be reused with different values, for-loop\n",
    "'''"
   ]
  },
  {
   "cell_type": "code",
   "execution_count": null,
   "id": "ae169b69-07c1-42e9-9474-236dd3746337",
   "metadata": {},
   "outputs": [],
   "source": []
  }
 ],
 "metadata": {
  "kernelspec": {
   "display_name": "Python 3 (ipykernel)",
   "language": "python",
   "name": "python3"
  },
  "language_info": {
   "codemirror_mode": {
    "name": "ipython",
    "version": 3
   },
   "file_extension": ".py",
   "mimetype": "text/x-python",
   "name": "python",
   "nbconvert_exporter": "python",
   "pygments_lexer": "ipython3",
   "version": "3.9.19"
  }
 },
 "nbformat": 4,
 "nbformat_minor": 5
}
